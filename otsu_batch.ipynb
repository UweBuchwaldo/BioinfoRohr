{
 "cells": [
  {
   "cell_type": "markdown",
   "metadata": {},
   "source": [
    "# [Lab Session 2](otsu.ipynb)"
   ]
  },
  {
   "cell_type": "code",
   "execution_count": 10,
   "metadata": {},
   "outputs": [],
   "source": [
    "import numpy as np\n",
    "import matplotlib.pyplot as plt"
   ]
  },
  {
   "cell_type": "markdown",
   "metadata": {},
   "source": [
    "**[Task 2.1.]()** Implement Otsu thresholding as a re-usable function:"
   ]
  },
  {
   "cell_type": "code",
   "execution_count": 14,
   "metadata": {},
   "outputs": [],
   "source": [
    "def otsu_thresholding(img):\n",
    "    img = (img * 255).round().astype(np.uint8)\n",
    "\n",
    "    h = np.zeros(256)\n",
    "\n",
    "    for i in range(256): \n",
    "        h[i] = np.sum(img == i)\n",
    "\n",
    "    # sum_all -> gewichtete Summe der Intensitätswerte (np.dot)\n",
    "    sum_all = np.dot(np.arange(256), h)\n",
    "    sum_B = 0 \n",
    "    w_B = 0 \n",
    "    w_F = 0 \n",
    "    max_variance = 0 \n",
    "    optimal_threshold = 0\n",
    "\n",
    "    # gesamtzahl der Pixel\n",
    "    total_pixels = img.size\n",
    "\n",
    "    #Iterieren über alle Werte im Array; w_B -> Gewicht des Hintergrundes, w_F -> Gewicht des Vordergrundes\n",
    "    for T in range(1, 256):\n",
    "        w_B += h[T - 1]\n",
    "        w_F = total_pixels - w_B\n",
    "        if w_B == 0 or w_F == 0:\n",
    "            continue\n",
    "\n",
    "    #Berechnung von Summe und Mittelwerten für Berechnung der Varianz \n",
    "        sum_B += (T - 1) * h[T - 1]\n",
    "        mean_B = sum_B / w_B\n",
    "        mean_F = (sum_all - sum_B) / w_F\n",
    "\n",
    "        # Varianzen berechnen, Vorlesung slide 22\n",
    "        var_B = np.sum(((np.arange(T) - mean_B) ** 2) * h[:T]) / w_B\n",
    "        var_F = np.sum(((np.arange(T, 256) - mean_F) ** 2) * h[T:]) / w_F\n",
    "\n",
    "    #Formel aus Forlesung, muss minimiert werden slide 21\n",
    "        within_class_variance = w_B * var_B + w_F * var_F\n",
    "\n",
    "    # Wenn within_class_variance kleiner als Varianz zuvor, dann wird treshold neu gesetzt, sowie max_variance an neuen Wert angepasst, sodass sich within_class_variance über steigende iterationen verringert \n",
    "        if within_class_variance < max_variance or max_variance == 0:\n",
    "            max_variance = within_class_variance\n",
    "            optimal_threshold = T\n",
    "        \n",
    "    return optimal_threshold\n"
   ]
  },
  {
   "cell_type": "code",
   "execution_count": 15,
   "metadata": {},
   "outputs": [
    {
     "data": {
      "text/plain": [
       "255"
      ]
     },
     "execution_count": 15,
     "metadata": {},
     "output_type": "execute_result"
    }
   ],
   "source": [
    "otsu_thresholding(img_ref)"
   ]
  },
  {
   "cell_type": "markdown",
   "metadata": {},
   "source": [
    "**[Task 2.2.]()** Implement a re-usable function to compute the Dice coefficient:"
   ]
  },
  {
   "cell_type": "code",
   "execution_count": 17,
   "metadata": {},
   "outputs": [],
   "source": [
    "img_ref = plt.imread(\"data/NIH3T3/gt/0.png\")\n",
    "\n",
    "\n",
    "def compute_dice(bin1, bin2):\n",
    "    bin1 = bin1.astype(bool) \n",
    "    bin2 = bin2.astype(bool)\n",
    "\n",
    "    dice = 2 * np.logical_and(bin1, bin2).sum()  / (bin1.sum()  + bin2.sum())\n",
    "\n",
    "    return dice"
   ]
  },
  {
   "cell_type": "markdown",
   "metadata": {},
   "source": [
    "**[Task 2.3.]()** Test your implementations from above:"
   ]
  },
  {
   "cell_type": "code",
   "execution_count": 18,
   "metadata": {},
   "outputs": [
    {
     "data": {
      "text/plain": [
       "1.0"
      ]
     },
     "execution_count": 18,
     "metadata": {},
     "output_type": "execute_result"
    }
   ],
   "source": [
    "compute_dice(img_ref, img_ref)"
   ]
  },
  {
   "cell_type": "markdown",
   "metadata": {},
   "source": [
    "The result should be the same as in your [otsu.ipynb](otsu.ipynb) notebook."
   ]
  },
  {
   "cell_type": "markdown",
   "metadata": {},
   "source": [
    "**[Task 2.4.]()** Perform batch processing:"
   ]
  },
  {
   "cell_type": "code",
   "execution_count": 28,
   "metadata": {},
   "outputs": [
    {
     "name": "stdout",
     "output_type": "stream",
     "text": [
      "28 35 0.3158152367118249\n",
      "29 41 0.28370685279662594\n",
      "33 71 0.2912938620315046\n",
      "44 67 0.4090528400233743\n",
      "46 75 0.31283490311025464\n",
      "49 46 0.4014820708339262\n"
     ]
    }
   ],
   "source": [
    "for i in [28, 29, 33, 44, 46, 49]: \n",
    "\n",
    "    # Load the i-th image \n",
    "    image = plt.imread(f'data/NIH3T3/im/dna-{i}.png') \n",
    "\n",
    "    # Load the corresponding ground truth \n",
    "    ground_truth = plt.imread(f'data/NIH3T3/gt/{i}.png')\n",
    "\n",
    "    ot = otsu_thresholding(image)\n",
    "    di = compute_dice(image, ground_truth)\n",
    "    print(i, ot, di)"
   ]
  }
 ],
 "metadata": {
  "kernelspec": {
   "display_name": "Python 3",
   "language": "python",
   "name": "python3"
  },
  "language_info": {
   "codemirror_mode": {
    "name": "ipython",
    "version": 3
   },
   "file_extension": ".py",
   "mimetype": "text/x-python",
   "name": "python",
   "nbconvert_exporter": "python",
   "pygments_lexer": "ipython3",
   "version": "3.12.7"
  }
 },
 "nbformat": 4,
 "nbformat_minor": 4
}
