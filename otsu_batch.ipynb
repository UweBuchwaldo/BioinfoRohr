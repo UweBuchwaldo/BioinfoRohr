{
 "cells": [
  {
   "cell_type": "markdown",
   "metadata": {},
   "source": [
    "# [Lab Session 2](otsu.ipynb)"
   ]
  },
  {
   "cell_type": "code",
   "execution_count": 1,
   "metadata": {},
   "outputs": [],
   "source": [
    "import numpy as np\n",
    "import matplotlib.pyplot as plt"
   ]
  },
  {
   "cell_type": "markdown",
   "metadata": {},
   "source": [
    "**[Task 2.1.]()** Implement Otsu thresholding as a re-usable function:"
   ]
  },
  {
   "cell_type": "code",
   "execution_count": 52,
   "metadata": {},
   "outputs": [],
   "source": [
    "def otsu_thresholding(img):\n",
    "    img = (img * 255).round().astype(np.uint8)\n",
    "\n",
    "    h = np.zeros(256)\n",
    "\n",
    "    for i in range(256): \n",
    "        h[i] = np.sum(img == i)\n",
    "\n",
    "    # sum_all -> gewichtete Summe der Intensitätswerte (np.dot)\n",
    "    sum_all = np.dot(np.arange(256), h)\n",
    "    sum_B = 0 \n",
    "    w_B = 0 \n",
    "    w_F = 0 \n",
    "    max_variance = 0 \n",
    "    optimal_threshold = 0\n",
    "\n",
    "    # gesamtzahl der Pixel\n",
    "    total_pixels = img.size\n",
    "\n",
    "    #Iterieren über alle Werte im Array; w_B -> Gewicht des Hintergrundes, w_F -> Gewicht des Vordergrundes\n",
    "    for T in range(1, 256):\n",
    "        w_B += h[T - 1]\n",
    "        w_F = total_pixels - w_B\n",
    "        if w_B == 0 or w_F == 0:\n",
    "            continue\n",
    "\n",
    "    #Berechnung von Summe und Mittelwerten für Berechnung der Varianz \n",
    "        sum_B += (T - 1) * h[T - 1]\n",
    "        mean_B = sum_B / w_B\n",
    "        mean_F = (sum_all - sum_B) / w_F\n",
    "\n",
    "        # Varianzen berechnen, Vorlesung slide 22\n",
    "        var_B = np.sum(((np.arange(T) - mean_B) ** 2) * h[:T]) / w_B\n",
    "        var_F = np.sum(((np.arange(T, 256) - mean_F) ** 2) * h[T:]) / w_F\n",
    "\n",
    "    #Formel aus Forlesung, muss minimiert werden slide 21\n",
    "        within_class_variance = w_B * var_B + w_F * var_F\n",
    "\n",
    "    # Wenn within_class_variance kleiner als Varianz zuvor, dann wird treshold neu gesetzt, sowie max_variance an neuen Wert angepasst, sodass sich within_class_variance über steigende iterationen verringert \n",
    "        if within_class_variance < max_variance or max_variance == 0:\n",
    "            max_variance = within_class_variance\n",
    "            optimal_threshold = T\n",
    "        \n",
    "    return optimal_threshold\n"
   ]
  },
  {
   "cell_type": "code",
   "execution_count": 57,
   "metadata": {},
   "outputs": [
    {
     "data": {
      "text/plain": [
       "255"
      ]
     },
     "execution_count": 57,
     "metadata": {},
     "output_type": "execute_result"
    }
   ],
   "source": [
    "otsu_thresholding(img_ref)"
   ]
  },
  {
   "cell_type": "markdown",
   "metadata": {},
   "source": [
    "**[Task 2.2.]()** Implement a re-usable function to compute the Dice coefficient:"
   ]
  },
  {
   "cell_type": "code",
   "execution_count": 26,
   "metadata": {},
   "outputs": [],
   "source": [
    "img_ref = plt.imread(\"data/NIH3T3/gt/0.png\")\n",
    "imgf = plt.imread(\"data/NIH3T3/im/dna-0.png\")\n",
    "def compute_dice(bin1, bin2):\n",
    "    assert bin1.dtype == np.bool\n",
    "    assert bin2.dtype == np.bool\n",
    "\n",
    "    dice = (2*np.sum(bin1*bin2))/(bin1.sum()+bin2.sum())\n",
    "\n",
    "    return dice"
   ]
  },
  {
   "cell_type": "markdown",
   "metadata": {},
   "source": [
    "**[Task 2.3.]()** Test your implementations from above:"
   ]
  },
  {
   "cell_type": "code",
   "execution_count": 58,
   "metadata": {},
   "outputs": [
    {
     "name": "stderr",
     "output_type": "stream",
     "text": [
      "/tmp/ipykernel_43055/4111573200.py:4: FutureWarning: In the future `np.bool` will be defined as the corresponding NumPy scalar.\n",
      "  assert bin1.dtype == np.bool\n"
     ]
    },
    {
     "ename": "AttributeError",
     "evalue": "module 'numpy' has no attribute 'bool'.\n`np.bool` was a deprecated alias for the builtin `bool`. To avoid this error in existing code, use `bool` by itself. Doing this will not modify any behavior and is safe. If you specifically wanted the numpy scalar type, use `np.bool_` here.\nThe aliases was originally deprecated in NumPy 1.20; for more details and guidance see the original release note at:\n    https://numpy.org/devdocs/release/1.20.0-notes.html#deprecations",
     "output_type": "error",
     "traceback": [
      "\u001b[0;31m---------------------------------------------------------------------------\u001b[0m",
      "\u001b[0;31mAttributeError\u001b[0m                            Traceback (most recent call last)",
      "Cell \u001b[0;32mIn[58], line 1\u001b[0m\n\u001b[0;32m----> 1\u001b[0m \u001b[43mcompute_dice\u001b[49m\u001b[43m(\u001b[49m\u001b[43mimg_ref\u001b[49m\u001b[43m,\u001b[49m\u001b[43m \u001b[49m\u001b[43mimgf\u001b[49m\u001b[43m)\u001b[49m\n",
      "Cell \u001b[0;32mIn[26], line 4\u001b[0m, in \u001b[0;36mcompute_dice\u001b[0;34m(bin1, bin2)\u001b[0m\n\u001b[1;32m      3\u001b[0m \u001b[38;5;28;01mdef\u001b[39;00m \u001b[38;5;21mcompute_dice\u001b[39m(bin1, bin2):\n\u001b[0;32m----> 4\u001b[0m     \u001b[38;5;28;01massert\u001b[39;00m bin1\u001b[38;5;241m.\u001b[39mdtype \u001b[38;5;241m==\u001b[39m \u001b[43mnp\u001b[49m\u001b[38;5;241;43m.\u001b[39;49m\u001b[43mbool\u001b[49m\n\u001b[1;32m      5\u001b[0m     \u001b[38;5;28;01massert\u001b[39;00m bin2\u001b[38;5;241m.\u001b[39mdtype \u001b[38;5;241m==\u001b[39m np\u001b[38;5;241m.\u001b[39mbool\n\u001b[1;32m      7\u001b[0m     dice \u001b[38;5;241m=\u001b[39m (\u001b[38;5;241m2\u001b[39m\u001b[38;5;241m*\u001b[39mnp\u001b[38;5;241m.\u001b[39msum(bin1\u001b[38;5;241m*\u001b[39mbin2))\u001b[38;5;241m/\u001b[39m(bin1\u001b[38;5;241m.\u001b[39msum()\u001b[38;5;241m+\u001b[39mbin2\u001b[38;5;241m.\u001b[39msum())\n",
      "File \u001b[0;32m/usr/local/lib/python3.12/site-packages/numpy/__init__.py:324\u001b[0m, in \u001b[0;36m__getattr__\u001b[0;34m(attr)\u001b[0m\n\u001b[1;32m    319\u001b[0m     warnings\u001b[38;5;241m.\u001b[39mwarn(\n\u001b[1;32m    320\u001b[0m         \u001b[38;5;124mf\u001b[39m\u001b[38;5;124m\"\u001b[39m\u001b[38;5;124mIn the future `np.\u001b[39m\u001b[38;5;132;01m{\u001b[39;00mattr\u001b[38;5;132;01m}\u001b[39;00m\u001b[38;5;124m` will be defined as the \u001b[39m\u001b[38;5;124m\"\u001b[39m\n\u001b[1;32m    321\u001b[0m         \u001b[38;5;124m\"\u001b[39m\u001b[38;5;124mcorresponding NumPy scalar.\u001b[39m\u001b[38;5;124m\"\u001b[39m, \u001b[38;5;167;01mFutureWarning\u001b[39;00m, stacklevel\u001b[38;5;241m=\u001b[39m\u001b[38;5;241m2\u001b[39m)\n\u001b[1;32m    323\u001b[0m \u001b[38;5;28;01mif\u001b[39;00m attr \u001b[38;5;129;01min\u001b[39;00m __former_attrs__:\n\u001b[0;32m--> 324\u001b[0m     \u001b[38;5;28;01mraise\u001b[39;00m \u001b[38;5;167;01mAttributeError\u001b[39;00m(__former_attrs__[attr])\n\u001b[1;32m    326\u001b[0m \u001b[38;5;28;01mif\u001b[39;00m attr \u001b[38;5;241m==\u001b[39m \u001b[38;5;124m'\u001b[39m\u001b[38;5;124mtesting\u001b[39m\u001b[38;5;124m'\u001b[39m:\n\u001b[1;32m    327\u001b[0m     \u001b[38;5;28;01mimport\u001b[39;00m \u001b[38;5;21;01mnumpy\u001b[39;00m\u001b[38;5;21;01m.\u001b[39;00m\u001b[38;5;21;01mtesting\u001b[39;00m \u001b[38;5;28;01mas\u001b[39;00m \u001b[38;5;21;01mtesting\u001b[39;00m\n",
      "\u001b[0;31mAttributeError\u001b[0m: module 'numpy' has no attribute 'bool'.\n`np.bool` was a deprecated alias for the builtin `bool`. To avoid this error in existing code, use `bool` by itself. Doing this will not modify any behavior and is safe. If you specifically wanted the numpy scalar type, use `np.bool_` here.\nThe aliases was originally deprecated in NumPy 1.20; for more details and guidance see the original release note at:\n    https://numpy.org/devdocs/release/1.20.0-notes.html#deprecations"
     ]
    }
   ],
   "source": [
    "compute_dice(img_ref, imgf)"
   ]
  },
  {
   "cell_type": "markdown",
   "metadata": {},
   "source": [
    "The result should be the same as in your [otsu.ipynb](otsu.ipynb) notebook."
   ]
  },
  {
   "cell_type": "markdown",
   "metadata": {},
   "source": [
    "**[Task 2.4.]()** Perform batch processing:"
   ]
  },
  {
   "cell_type": "code",
   "execution_count": null,
   "metadata": {},
   "outputs": [],
   "source": []
  }
 ],
 "metadata": {
  "kernelspec": {
   "display_name": "Python 3",
   "language": "python",
   "name": "python3"
  },
  "language_info": {
   "codemirror_mode": {
    "name": "ipython",
    "version": 3
   },
   "file_extension": ".py",
   "mimetype": "text/x-python",
   "name": "python",
   "nbconvert_exporter": "python",
   "pygments_lexer": "ipython3",
   "version": "3.12.7"
  }
 },
 "nbformat": 4,
 "nbformat_minor": 4
}
